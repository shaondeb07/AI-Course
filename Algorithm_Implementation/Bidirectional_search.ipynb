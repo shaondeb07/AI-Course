{
 "cells": [
  {
   "cell_type": "code",
   "execution_count": 23,
   "id": "161971c2-89d0-409f-a4b0-d8f79a52f4f6",
   "metadata": {},
   "outputs": [
    {
     "name": "stdin",
     "output_type": "stream",
     "text": [
      "Number of nodes (n):  6\n",
      "Number of edges (m):  5\n"
     ]
    },
    {
     "name": "stdout",
     "output_type": "stream",
     "text": [
      "Enter each edge as: u v (space separated)\n"
     ]
    },
    {
     "name": "stdin",
     "output_type": "stream",
     "text": [
      " 1 2\n",
      " 2 3\n",
      " 3 4\n",
      " 2 5\n",
      " 3 6\n",
      "Start node:  1\n",
      "Goal node:  4\n"
     ]
    },
    {
     "name": "stdout",
     "output_type": "stream",
     "text": [
      "Path found: [1, 2, 3, 4]\n"
     ]
    }
   ],
   "source": [
    "from collections import deque\n",
    "\n",
    "def bidirectional_search(graph, start, goal):\n",
    "    if start == goal:\n",
    "        return [start]\n",
    "\n",
    "    queue_forward = deque([start])\n",
    "    visited_forward = {start: None}\n",
    "    \n",
    "    queue_backward = deque([goal])\n",
    "    visited_backward = {goal: None}\n",
    "\n",
    "    intersecting_node = None\n",
    "\n",
    "    while queue_forward and queue_backward:\n",
    "        # Forward search\n",
    "        current_forward = queue_forward.popleft()\n",
    "        \n",
    "        for neighbor in graph[current_forward]:\n",
    "            if neighbor not in visited_forward:\n",
    "                visited_forward[neighbor] = current_forward\n",
    "                queue_forward.append(neighbor)\n",
    "                \n",
    "                if neighbor in visited_backward:\n",
    "                    intersecting_node = neighbor\n",
    "                    break\n",
    "                    \n",
    "        if intersecting_node:\n",
    "            break\n",
    "\n",
    "        # Backward search\n",
    "        current_backward = queue_backward.popleft()\n",
    "        \n",
    "        for neighbor in graph[current_backward]:\n",
    "            if neighbor not in visited_backward:\n",
    "                visited_backward[neighbor] = current_backward\n",
    "                queue_backward.append(neighbor)\n",
    "                \n",
    "                if neighbor in visited_forward:\n",
    "                    intersecting_node = neighbor\n",
    "                    break\n",
    "                    \n",
    "        if intersecting_node:\n",
    "            break\n",
    "\n",
    "    if intersecting_node:\n",
    "        path = []\n",
    "        node = intersecting_node\n",
    "        while node is not None:\n",
    "            path.append(node)\n",
    "            node = visited_forward[node]\n",
    "        path.reverse()\n",
    "        \n",
    "        # From intersecting node to goal\n",
    "        node = visited_backward[intersecting_node]\n",
    "        while node is not None:\n",
    "            path.append(node)\n",
    "            node = visited_backward[node]\n",
    "        \n",
    "        return path\n",
    "    \n",
    "    return None\n",
    "\n",
    "# ---- Input ----\n",
    "n = int(input(\"Number of nodes (n): \"))\n",
    "m = int(input(\"Number of edges (m): \"))\n",
    "\n",
    "graph = [[] for _ in range(n + 1)]\n",
    "\n",
    "print(\"Enter each edge as: u v (space separated)\")\n",
    "for _ in range(m):\n",
    "    u, v = map(int, input().split())\n",
    "    graph[u].append(v)\n",
    "    graph[v].append(u)\n",
    "\n",
    "start = int(input(\"Start node: \"))\n",
    "goal = int(input(\"Goal node: \"))\n",
    "\n",
    "path = bidirectional_search(graph, start, goal)\n",
    "\n",
    "\n",
    "print(\"Path found:\", path)\n"
   ]
  },
  {
   "cell_type": "code",
   "execution_count": null,
   "id": "02cea2e2-8ac7-48c5-9fac-ecebe54c91b1",
   "metadata": {},
   "outputs": [],
   "source": []
  }
 ],
 "metadata": {
  "kernelspec": {
   "display_name": "Python [conda env:base] *",
   "language": "python",
   "name": "conda-base-py"
  },
  "language_info": {
   "codemirror_mode": {
    "name": "ipython",
    "version": 3
   },
   "file_extension": ".py",
   "mimetype": "text/x-python",
   "name": "python",
   "nbconvert_exporter": "python",
   "pygments_lexer": "ipython3",
   "version": "3.12.7"
  }
 },
 "nbformat": 4,
 "nbformat_minor": 5
}
