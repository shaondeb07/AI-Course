{
 "cells": [
  {
   "cell_type": "code",
   "execution_count": null,
   "id": "ce3ae9e2-30d9-4bc0-b8a6-bb1ad7e3a2df",
   "metadata": {},
   "outputs": [],
   "source": [
    "from collections import defaultdict\n",
    "import heapq\n",
    "\n",
    "class GraphBestFirst:\n",
    "    def __init__(self):\n",
    "        self.graph = defaultdict(list)\n",
    "        self.heuristics = {}\n",
    "\n",
    "    def add_edge(self, u, v, cost=1):\n",
    "        self.graph[u].append((v, cost))\n",
    "        self.graph[v].append((u, cost))\n",
    "\n",
    "    def set_heuristic(self, node, value):\n",
    "        self.heuristics[node] = value\n",
    "\n",
    "    def best_first_search(self, start, goal):\n",
    "        visited = set()\n",
    "        pq = [(self.heuristics.get(start, float('inf')), start, [start])]\n",
    "\n",
    "        while pq:\n",
    "            _, current, path = heapq.heappop(pq)\n",
    "\n",
    "            if current == goal:\n",
    "                return path\n",
    "\n",
    "            if current not in visited:\n",
    "                visited.add(current)\n",
    "                for neighbor, _ in self.graph.get(current, []):\n",
    "                    if neighbor not in visited:\n",
    "                        new_path = path + [neighbor]\n",
    "                        heapq.heappush(pq, (self.heuristics.get(neighbor, float('inf')), neighbor, new_path))\n",
    "        return None\n",
    "\n",
    "\n",
    "if __name__ == \"__main__\":\n",
    "    g = GraphBestFirst()\n",
    "    n = int(input(\"Enter number of edges: \"))\n",
    "    print(\"Enter edges in format: node1 node2 cost\")\n",
    "    for _ in range(n):\n",
    "        u, v, c = input().split()\n",
    "        g.add_edge(u, v, int(c))\n",
    "\n",
    "    h = int(input(\"Enter number of heuristic values: \"))\n",
    "    print(\"Enter heuristic in format: node value\")\n",
    "    for _ in range(h):\n",
    "        node, val = input().split()\n",
    "        g.set_heuristic(node, int(val))\n",
    "\n",
    "    start = input(\"Enter start node: \")\n",
    "    goal = input(\"Enter goal node: \")\n",
    "\n",
    "    print(\"\\n--- Running Best First Search ---\")\n",
    "    path = g.best_first_search(start, goal)\n",
    "    if path:\n",
    "        print(\"Path Found:\", \" → \".join(path))\n",
    "    else:\n",
    "        print(\"Goal not reachable.\")\n"
   ]
  },
  {
   "cell_type": "code",
   "execution_count": null,
   "id": "a4695ad4-d1ac-4a3a-b218-385de94c4e30",
   "metadata": {},
   "outputs": [],
   "source": []
  }
 ],
 "metadata": {
  "kernelspec": {
   "display_name": "Python [conda env:base] *",
   "language": "python",
   "name": "conda-base-py"
  },
  "language_info": {
   "codemirror_mode": {
    "name": "ipython",
    "version": 3
   },
   "file_extension": ".py",
   "mimetype": "text/x-python",
   "name": "python",
   "nbconvert_exporter": "python",
   "pygments_lexer": "ipython3",
   "version": "3.12.7"
  }
 },
 "nbformat": 4,
 "nbformat_minor": 5
}
