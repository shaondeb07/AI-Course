{
 "cells": [
  {
   "cell_type": "code",
   "execution_count": null,
   "id": "a1d8e1e2-abda-41bf-8794-899dea1edc9f",
   "metadata": {},
   "outputs": [],
   "source": [
    "def minmax(depth, current_depth, nodeIndex, maximizingPlayer, values):\n",
    "    \"\"\"\n",
    "    Basic Min-Max Algorithm (no alpha-beta pruning)\n",
    "    \"\"\"\n",
    "    # Base case: reached a terminal node\n",
    "    if current_depth == depth:\n",
    "        return values[nodeIndex]\n",
    "\n",
    "    if maximizingPlayer:\n",
    "        # MAX player's turn → choose largest value from children\n",
    "        best = -float('inf')\n",
    "        for i in range(2):  \n",
    "            val = minmax(depth, current_depth + 1, nodeIndex * 2 + i, False, values)\n",
    "            best = max(best, val)\n",
    "        return best\n",
    "    else:\n",
    "        # MIN player's turn → choose smallest value from children\n",
    "        best = float('inf')\n",
    "        for i in range(2):\n",
    "            val = minmax(depth, current_depth + 1, nodeIndex * 2 + i, True, values)\n",
    "            best = min(best, val)\n",
    "        return best\n",
    "\n",
    "\n",
    "# ---------- Main program ----------\n",
    "if __name__ == \"__main__\":\n",
    "    # Ask for game tree depth\n",
    "    depth = int(input(\"Enter the tree depth: \"))\n",
    "\n",
    "    # Leaf node count = 2^depth\n",
    "    num_terminals = 2 ** depth  \n",
    "\n",
    "    # Input terminal values\n",
    "    terminal_values = []\n",
    "    print(f\"\\nEnter {num_terminals} terminal node values:\")\n",
    "    for i in range(num_terminals):\n",
    "        val = int(input(f\"Value {i+1}: \"))\n",
    "        terminal_values.append(val)\n",
    "\n",
    "    # Run the simple Minimax\n",
    "    print(\"\\nCalculating optimal value (no alpha-beta)...\")\n",
    "    optimal_value = minmax(depth, 0, 0, True, terminal_values)\n",
    "\n",
    "    print(f\"\\nThe optimal value at the root is: {optimal_value}\")"
   ]
  }
 ],
 "metadata": {
  "kernelspec": {
   "display_name": "Python [conda env:base] *",
   "language": "python",
   "name": "conda-base-py"
  },
  "language_info": {
   "codemirror_mode": {
    "name": "ipython",
    "version": 3
   },
   "file_extension": ".py",
   "mimetype": "text/x-python",
   "name": "python",
   "nbconvert_exporter": "python",
   "pygments_lexer": "ipython3",
   "version": "3.12.7"
  }
 },
 "nbformat": 4,
 "nbformat_minor": 5
}
