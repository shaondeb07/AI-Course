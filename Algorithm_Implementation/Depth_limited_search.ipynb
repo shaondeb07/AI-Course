{
 "cells": [
  {
   "cell_type": "code",
   "execution_count": 19,
   "id": "30f61878-be58-4389-9308-e610ddd7e9fe",
   "metadata": {},
   "outputs": [
    {
     "name": "stdin",
     "output_type": "stream",
     "text": [
      "Number of nodes (n):  8\n",
      "Number of edges (m):  7\n"
     ]
    },
    {
     "name": "stdout",
     "output_type": "stream",
     "text": [
      "Enter each edge as: u v (space separated)\n"
     ]
    },
    {
     "name": "stdin",
     "output_type": "stream",
     "text": [
      " 1 2\n",
      " 1 3\n",
      " 2 4\n",
      " 2 5\n",
      " 3 6\n",
      " 3 7\n",
      " 4 8\n",
      "Start node:  1\n",
      "Goal node:  7\n",
      "Depth limit:  2\n"
     ]
    },
    {
     "name": "stdout",
     "output_type": "stream",
     "text": [
      "Visited nodes (within depth limit): [1, 2, 4, 5, 3, 6, 7]\n",
      "Goal node 7 was found!\n"
     ]
    }
   ],
   "source": [
    "def dls(graph, node, visited, limit, goal, depth=0):\n",
    "    \n",
    "    if depth > limit:   \n",
    "        return False\n",
    "\n",
    "    visited.append(node)\n",
    "\n",
    "    if node == goal:         \n",
    "        return True\n",
    "\n",
    "    for neighbor in graph[node]:\n",
    "        if neighbor not in visited:\n",
    "            found = dls(graph, neighbor, visited, limit, goal, depth + 1)\n",
    "            if found:         \n",
    "                return True\n",
    "    \n",
    "    return False            \n",
    "\n",
    "\n",
    "# ---- Input ----\n",
    "n = int(input(\"Number of nodes (n): \"))\n",
    "m = int(input(\"Number of edges (m): \"))\n",
    "\n",
    "graph = [[] for _ in range(n + 1)]\n",
    "\n",
    "print(\"Enter each edge as: u v (space separated)\")\n",
    "for _ in range(m):\n",
    "    u, v = map(int, input().split())\n",
    "    graph[u].append(v)   \n",
    "\n",
    "start = int(input(\"Start node: \"))\n",
    "goal = int(input(\"Goal node: \"))\n",
    "limit = int(input(\"Depth limit: \"))\n",
    "\n",
    "visited = []\n",
    "found = dls(graph, start, visited, limit, goal)\n",
    "\n",
    "print(\"Visited nodes (within depth limit):\", visited)\n",
    "if found:\n",
    "    print(f\"Goal node {goal} was found!\")\n",
    "else:\n",
    "    print(f\"Goal node {goal} not found within depth {limit}.\")"
   ]
  },
  {
   "cell_type": "code",
   "execution_count": null,
   "id": "5444e6f6-92c9-4a60-bed0-dc9e98ef7ba2",
   "metadata": {},
   "outputs": [],
   "source": []
  }
 ],
 "metadata": {
  "kernelspec": {
   "display_name": "Python [conda env:base] *",
   "language": "python",
   "name": "conda-base-py"
  },
  "language_info": {
   "codemirror_mode": {
    "name": "ipython",
    "version": 3
   },
   "file_extension": ".py",
   "mimetype": "text/x-python",
   "name": "python",
   "nbconvert_exporter": "python",
   "pygments_lexer": "ipython3",
   "version": "3.12.7"
  }
 },
 "nbformat": 4,
 "nbformat_minor": 5
}
