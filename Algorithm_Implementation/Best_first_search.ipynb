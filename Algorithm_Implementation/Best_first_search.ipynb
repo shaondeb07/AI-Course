{
 "cells": [
  {
   "cell_type": "code",
   "execution_count": 11,
   "id": "bd961bd2-043a-41c1-909b-50d3fa3d3195",
   "metadata": {},
   "outputs": [
    {
     "name": "stdin",
     "output_type": "stream",
     "text": [
      "Enter number of edges:  10\n"
     ]
    },
    {
     "name": "stdout",
     "output_type": "stream",
     "text": [
      "Enter edges in format: node1 node2 cost\n"
     ]
    },
    {
     "name": "stdin",
     "output_type": "stream",
     "text": [
      " A B 11\n",
      " A D 7\n",
      "  A C 10\n",
      " D F 25\n",
      " C F 10\n",
      " C E 8\n",
      " E H 9\n",
      " F G 10\n",
      " H G 10\n",
      " B E 15\n",
      "Enter number of heuristic values:  8\n"
     ]
    },
    {
     "name": "stdout",
     "output_type": "stream",
     "text": [
      "Enter heuristic in format: node value\n"
     ]
    },
    {
     "name": "stdin",
     "output_type": "stream",
     "text": [
      " A 40\n",
      " B 32\n",
      " C 25\n",
      " D 35\n",
      " E 19\n",
      " F 17\n",
      " H 10\n",
      " G 0\n",
      "Enter start node:  A\n",
      "Enter goal node:  G\n"
     ]
    },
    {
     "name": "stdout",
     "output_type": "stream",
     "text": [
      "Best First Search Path: A → C → F → G\n"
     ]
    }
   ],
   "source": [
    "from collections import defaultdict\n",
    "import heapq\n",
    "\n",
    "class InformedGraph:\n",
    "    def __init__(self):\n",
    "        self.graph = defaultdict(list)  # graph[node] = [(neighbor, cost), ...]\n",
    "        self.heuristics = {}  # heuristics[node] = h(n)\n",
    "\n",
    "    # Add undirected edge\n",
    "    def add_edge(self, u, v, cost=1):\n",
    "        self.graph[u].append((v, cost))\n",
    "        self.graph[v].append((u, cost))\n",
    "\n",
    "    # Set heuristic\n",
    "    def set_heuristic(self, node, value):\n",
    "        self.heuristics[node] = value\n",
    "\n",
    "    # ---------------- Best First Search ----------------\n",
    "    def best_first_search(self, start, goal):\n",
    "        visited = set()\n",
    "        pq = [(self.heuristics.get(start, float('inf')), start, [start])]  # (h(n), node, path)\n",
    "\n",
    "        while pq:\n",
    "            _, current, path = heapq.heappop(pq)\n",
    "\n",
    "            if current == goal:\n",
    "                return path\n",
    "\n",
    "            if current not in visited:\n",
    "                visited.add(current)\n",
    "                for neighbor, _ in self.graph.get(current, []):\n",
    "                    if neighbor not in visited:\n",
    "                        new_path = path + [neighbor]\n",
    "                        heapq.heappush(pq, (self.heuristics.get(neighbor, float('inf')), neighbor, new_path))\n",
    "        return None\n",
    "\n",
    "\n",
    "# ---------------- Main Program ----------------\n",
    "if __name__ == \"__main__\":\n",
    "    g = InformedGraph()\n",
    "\n",
    "    # Take graph input\n",
    "    n = int(input(\"Enter number of edges: \"))\n",
    "    print(\"Enter edges in format: node1 node2 cost\")\n",
    "    for _ in range(n):\n",
    "        u, v, c = input().split()\n",
    "        g.add_edge(u, v, int(c))\n",
    "\n",
    "    # Take heuristics\n",
    "    h = int(input(\"Enter number of heuristic values: \"))\n",
    "    print(\"Enter heuristic in format: node value\")\n",
    "    for _ in range(h):\n",
    "        node, val = input().split()\n",
    "        g.set_heuristic(node, int(val))\n",
    "\n",
    "    # Start and goal\n",
    "    start = input(\"Enter start node: \")\n",
    "    goal = input(\"Enter goal node: \")\n",
    "\n",
    "    # Run Best First Search\n",
    "    path = g.best_first_search(start, goal)\n",
    "    if path:\n",
    "        print(\"Best First Search Path:\", \" → \".join(path))\n",
    "    else:\n",
    "        print(\"Goal not reachable\")\n"
   ]
  },
  {
   "cell_type": "code",
   "execution_count": null,
   "id": "70446519-07f7-4e91-bdc5-da3b0db8d124",
   "metadata": {},
   "outputs": [],
   "source": [
    " A B 11\n",
    " A D 7\n",
    " A C 10\n",
    " D F 25\n",
    " C F 10\n",
    " C E 8\n",
    " E H 9\n",
    " F G 10\n",
    " H G 10\n",
    " B E 15"
   ]
  }
 ],
 "metadata": {
  "kernelspec": {
   "display_name": "Python [conda env:base] *",
   "language": "python",
   "name": "conda-base-py"
  },
  "language_info": {
   "codemirror_mode": {
    "name": "ipython",
    "version": 3
   },
   "file_extension": ".py",
   "mimetype": "text/x-python",
   "name": "python",
   "nbconvert_exporter": "python",
   "pygments_lexer": "ipython3",
   "version": "3.12.7"
  }
 },
 "nbformat": 4,
 "nbformat_minor": 5
}
