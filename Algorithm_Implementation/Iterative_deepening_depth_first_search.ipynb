{
 "cells": [
  {
   "cell_type": "code",
   "execution_count": 3,
   "id": "f7abc181-ebeb-4c3a-95f2-a2b9ec7c1a68",
   "metadata": {},
   "outputs": [
    {
     "name": "stdin",
     "output_type": "stream",
     "text": [
      "Number of nodes (n):  10\n",
      "Number of edges (m):  9\n"
     ]
    },
    {
     "name": "stdout",
     "output_type": "stream",
     "text": [
      "Enter each edge as: u v (space separated)\n"
     ]
    },
    {
     "name": "stdin",
     "output_type": "stream",
     "text": [
      " 1 2\n",
      " 1 3\n",
      " 2 4\n",
      " 2 5\n",
      " 3 6\n",
      " 3 7\n",
      " 4 8\n",
      " 4 9\n",
      " 5 10\n",
      "Start node:  1\n",
      "Goal node:  6\n",
      "Maximum depth limit:  2\n"
     ]
    },
    {
     "name": "stdout",
     "output_type": "stream",
     "text": [
      "\n",
      "Visited path: [1, 2, 4, 5, 3, 6]\n",
      "Goal node 6 was found!\n"
     ]
    }
   ],
   "source": [
    "def dls(graph, node, path, visited_order, limit, goal, depth=0):\n",
    "    if depth > limit:\n",
    "        return False\n",
    "\n",
    "    path.append(node)               \n",
    "    visited_order.append(node)    \n",
    "\n",
    "    if node == goal:\n",
    "        return True\n",
    "\n",
    "    for neighbor in graph[node]:\n",
    "        if neighbor not in path: \n",
    "            found = dls(graph, neighbor, path, visited_order, limit, goal, depth + 1)\n",
    "            if found:\n",
    "                return True\n",
    "\n",
    "    path.pop()  \n",
    "    return False\n",
    "\n",
    "\n",
    "def iddls(graph, start, goal, max_depth):\n",
    "    visited_order = []  \n",
    "    for limit in range(max_depth + 1):\n",
    "        path = []\n",
    "        visited_order.clear()  \n",
    "        found = dls(graph, start, path, visited_order, limit, goal)\n",
    "\n",
    "        if found:\n",
    "            break\n",
    "\n",
    "    return visited_order\n",
    "\n",
    "\n",
    "# ---- Input ----\n",
    "n = int(input(\"Number of nodes (n): \"))\n",
    "m = int(input(\"Number of edges (m): \"))\n",
    "\n",
    "graph = [[] for _ in range(n + 1)]\n",
    "\n",
    "print(\"Enter each edge as: u v (space separated)\")\n",
    "for _ in range(m):\n",
    "    u, v = map(int, input().split())\n",
    "    graph[u].append(v)\n",
    "\n",
    "start = int(input(\"Start node: \"))\n",
    "goal = int(input(\"Goal node: \"))\n",
    "max_depth = int(input(\"Maximum depth limit: \"))\n",
    "\n",
    "visited_path = iddls(graph, start, goal, max_depth)\n",
    "\n",
    "print(\"\\nVisited path:\", visited_path)\n",
    "\n",
    "if goal in visited_path:\n",
    "    print(f\"Goal node {goal} was found!\")\n",
    "else:\n",
    "    print(f\"Goal node {goal} not found within maximum depth {max_depth}.\")\n"
   ]
  },
  {
   "cell_type": "code",
   "execution_count": null,
   "id": "348344bb-3276-440e-ad30-dd8bb953f13c",
   "metadata": {},
   "outputs": [],
   "source": []
  }
 ],
 "metadata": {
  "kernelspec": {
   "display_name": "Python [conda env:base] *",
   "language": "python",
   "name": "conda-base-py"
  },
  "language_info": {
   "codemirror_mode": {
    "name": "ipython",
    "version": 3
   },
   "file_extension": ".py",
   "mimetype": "text/x-python",
   "name": "python",
   "nbconvert_exporter": "python",
   "pygments_lexer": "ipython3",
   "version": "3.12.7"
  }
 },
 "nbformat": 4,
 "nbformat_minor": 5
}
