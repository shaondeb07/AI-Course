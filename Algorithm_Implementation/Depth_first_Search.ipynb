{
 "cells": [
  {
   "cell_type": "code",
   "execution_count": 1,
   "id": "3ef6178f-59ce-4df6-9894-3fe45e5c2219",
   "metadata": {},
   "outputs": [
    {
     "name": "stdin",
     "output_type": "stream",
     "text": [
      "Number of nodes (n):  6\n",
      "Number of edges (m):  5\n"
     ]
    },
    {
     "name": "stdout",
     "output_type": "stream",
     "text": [
      "Enter each edge as: u v (space separated)\n"
     ]
    },
    {
     "name": "stdin",
     "output_type": "stream",
     "text": [
      " 1 2\n",
      " 1 3\n",
      " 2 4\n",
      " 3 5\n",
      " 4 6\n",
      "Start node:  1\n"
     ]
    },
    {
     "name": "stdout",
     "output_type": "stream",
     "text": [
      "Visited nodes in DFS order: [1, 2, 4, 6, 3, 5]\n"
     ]
    }
   ],
   "source": [
    "def dfs(graph, node, visited):\n",
    "    if node not in visited:\n",
    "        visited.append(node)\n",
    "        for n in graph[node]:\n",
    "            dfs(graph, n, visited)\n",
    "    return visited\n",
    "\n",
    "# ---- Input ----\n",
    "n = int(input(\"Number of nodes (n): \"))\n",
    "m = int(input(\"Number of edges (m): \"))\n",
    "\n",
    "# adjacency list: index 0 unused, nodes are 1..n\n",
    "graph = [[] for _ in range(n + 1)]\n",
    "\n",
    "print(\"Enter each edge as: u v (space separated)\")\n",
    "for _ in range(m):\n",
    "    u, v = map(int, input().split())\n",
    "    graph[u].append(v)  # edge u -> v\n",
    "\n",
    "start = int(input(\"Start node: \"))\n",
    "\n",
    "# Perform DFS\n",
    "visited = dfs(graph, start, [])\n",
    "print(\"Visited nodes in DFS order:\", visited)\n"
   ]
  },
  {
   "cell_type": "code",
   "execution_count": null,
   "id": "02ebb733-c984-491d-ba2c-820645c632c6",
   "metadata": {},
   "outputs": [],
   "source": []
  }
 ],
 "metadata": {
  "kernelspec": {
   "display_name": "Python [conda env:base] *",
   "language": "python",
   "name": "conda-base-py"
  },
  "language_info": {
   "codemirror_mode": {
    "name": "ipython",
    "version": 3
   },
   "file_extension": ".py",
   "mimetype": "text/x-python",
   "name": "python",
   "nbconvert_exporter": "python",
   "pygments_lexer": "ipython3",
   "version": "3.12.7"
  }
 },
 "nbformat": 4,
 "nbformat_minor": 5
}
