{
 "cells": [
  {
   "cell_type": "code",
   "execution_count": 1,
   "id": "b6429a2f-fb3f-49b1-9f69-36ad13372c34",
   "metadata": {},
   "outputs": [
    {
     "name": "stdin",
     "output_type": "stream",
     "text": [
      "Number of nodes (n):  5\n",
      "Number of edges (m):  4\n"
     ]
    },
    {
     "name": "stdout",
     "output_type": "stream",
     "text": [
      "Enter each edge as: u v (space separated)\n"
     ]
    },
    {
     "name": "stdin",
     "output_type": "stream",
     "text": [
      " 1 2\n",
      " 1 3\n",
      " 2 4\n",
      " 3 4\n",
      "Start node:  1\n"
     ]
    },
    {
     "name": "stdout",
     "output_type": "stream",
     "text": [
      "Visited nodes in BFS order: [1, 2, 3, 4]\n"
     ]
    }
   ],
   "source": [
    "from collections import deque         \n",
    "\n",
    "def bfs(graph, start, visited):\n",
    "                          \n",
    "    queue   = deque([start])          \n",
    "\n",
    "    while queue:                       \n",
    "        node = queue.popleft()        \n",
    "        if node not in visited:        \n",
    "            visited.append(node)        \n",
    "            \n",
    "            for i in graph[node]:\n",
    "                if i not in visited and i not in queue:\n",
    "                    queue.append(i)\n",
    "\n",
    "    return visited\n",
    "\n",
    "# ---- Input ----\n",
    "n = int(input(\"Number of nodes (n): \"))\n",
    "m = int(input(\"Number of edges (m): \"))\n",
    "\n",
    "# adjacency list: index 0 unused, nodes are 1..n\n",
    "graph = [[] for _ in range(n + 1)]\n",
    "\n",
    "print(\"Enter each edge as: u v (space separated)\")\n",
    "for _ in range(m):\n",
    "    u, v = map(int, input().split())\n",
    "    graph[u].append(v)         \n",
    "\n",
    "start = int(input(\"Start node: \"))\n",
    "\n",
    "# Perform BFS\n",
    "visited = bfs(graph, start,[])\n",
    "print(\"Visited nodes in BFS order:\", visited)"
   ]
  },
  {
   "cell_type": "code",
   "execution_count": null,
   "id": "4c6b1667-7e14-4f6a-acf7-3fd09deda500",
   "metadata": {},
   "outputs": [],
   "source": []
  }
 ],
 "metadata": {
  "kernelspec": {
   "display_name": "Python [conda env:base] *",
   "language": "python",
   "name": "conda-base-py"
  },
  "language_info": {
   "codemirror_mode": {
    "name": "ipython",
    "version": 3
   },
   "file_extension": ".py",
   "mimetype": "text/x-python",
   "name": "python",
   "nbconvert_exporter": "python",
   "pygments_lexer": "ipython3",
   "version": "3.12.7"
  }
 },
 "nbformat": 4,
 "nbformat_minor": 5
}
