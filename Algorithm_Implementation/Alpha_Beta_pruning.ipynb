{
 "cells": [
  {
   "cell_type": "code",
   "execution_count": null,
   "id": "aac45161-c580-4043-91ba-ad713da548c8",
   "metadata": {},
   "outputs": [],
   "source": [
    "def minmax(depth, current_depth, nodeIndex, maximizingPlayer, values, alpha, beta):\n",
    "    \n",
    "    if current_depth == depth:\n",
    "        return values[nodeIndex]\n",
    "    \n",
    "    if maximizingPlayer:\n",
    "        best = -float('inf')\n",
    "        for i in range(2):\n",
    "            val = minmax(depth, current_depth + 1, nodeIndex * 2 + i, False, values, alpha, beta)\n",
    "            best = max(best, val)\n",
    "            alpha = max(alpha, best)\n",
    "            if beta <= alpha:\n",
    "                break\n",
    "        return best\n",
    "    else:\n",
    "        best = float('inf')\n",
    "        for i in range(2):\n",
    "            val = minmax(depth, current_depth + 1, nodeIndex * 2 + i, True, values, alpha, beta)\n",
    "            best = min(best, val)\n",
    "            beta = min(beta, best)\n",
    "            if beta <= alpha:\n",
    "                break\n",
    "        return best\n",
    "\n",
    "def get_tree_depth():\n",
    "    depth = int(input(\"Enter the tree depth (e.g., 3 for 8 terminal nodes): \"))\n",
    "    return depth\n",
    "\n",
    "def get_terminal_values(num_nodes):\n",
    "    print(f\"\\nEnter {num_nodes} terminal node values:\")\n",
    "    return [int(input(f\"Enter terminal value {i+1}: \")) for i in range(num_nodes)]\n",
    "\n",
    "def calculate_num_terminals(depth):\n",
    "    return 2 ** depth\n",
    "\n",
    "if __name__ == \"__main__\":\n",
    "    print(\"Min-Max Algorithm with Alpha-Beta Pruning\")\n",
    "    print(\"----------------------------------------\")\n",
    "    \n",
    "    depth = get_tree_depth()\n",
    "    num_terminals = calculate_num_terminals(depth)\n",
    "    terminal_values = get_terminal_values(num_terminals)\n",
    "    \n",
    "    print(\"\\nYou entered:\")\n",
    "    print(f\"Tree depth: {depth} (creates {num_terminals} terminal nodes)\")\n",
    "    print(\"Terminal values:\", terminal_values)\n",
    "    \n",
    "    print(\"\\nCalculating optimal value...\")\n",
    "    optimal_value = minmax(depth, 0, 0, True, terminal_values, -float('inf'), float('inf'))\n",
    "    print(f\"\\nThe optimal value is: {optimal_value}\")"
   ]
  }
 ],
 "metadata": {
  "kernelspec": {
   "display_name": "Python [conda env:base] *",
   "language": "python",
   "name": "conda-base-py"
  },
  "language_info": {
   "codemirror_mode": {
    "name": "ipython",
    "version": 3
   },
   "file_extension": ".py",
   "mimetype": "text/x-python",
   "name": "python",
   "nbconvert_exporter": "python",
   "pygments_lexer": "ipython3",
   "version": "3.12.7"
  }
 },
 "nbformat": 4,
 "nbformat_minor": 5
}
